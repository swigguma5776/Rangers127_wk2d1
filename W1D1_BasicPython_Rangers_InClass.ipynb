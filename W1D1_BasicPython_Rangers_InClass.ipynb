{
 "cells": [
  {
   "cell_type": "markdown",
   "metadata": {},
   "source": [
    "# Week 2 - Monday Lesson (variable assignment, loops, lists)"
   ]
  },
  {
   "cell_type": "markdown",
   "metadata": {},
   "source": [
    "## Tasks Today:\n",
    "\n",
    "1) Int & Float assignments <br>\n",
    " &nbsp;&nbsp;&nbsp;&nbsp; a) Assigning int <br>\n",
    " &nbsp;&nbsp;&nbsp;&nbsp; b) Assigning float <br>\n",
    " &nbsp;&nbsp;&nbsp;&nbsp; c) Performing Calculations on ints and floats <br>\n",
    " &nbsp;&nbsp;&nbsp;&nbsp;&nbsp;&nbsp;&nbsp;&nbsp; - Addition <br>\n",
    " &nbsp;&nbsp;&nbsp;&nbsp;&nbsp;&nbsp;&nbsp;&nbsp; - Subtraction <br>\n",
    " &nbsp;&nbsp;&nbsp;&nbsp;&nbsp;&nbsp;&nbsp;&nbsp; - Multiplication <br>\n",
    " &nbsp;&nbsp;&nbsp;&nbsp;&nbsp;&nbsp;&nbsp;&nbsp; - Division <br>\n",
    " &nbsp;&nbsp;&nbsp;&nbsp;&nbsp;&nbsp;&nbsp;&nbsp; - Floor Division <br>\n",
    " &nbsp;&nbsp;&nbsp;&nbsp;&nbsp;&nbsp;&nbsp;&nbsp; - Modulo <br>\n",
    " &nbsp;&nbsp;&nbsp;&nbsp;&nbsp;&nbsp;&nbsp;&nbsp; - Exponential <br>\n",
    "2) String Input-Output <br>\n",
    " &nbsp;&nbsp;&nbsp;&nbsp; a) String Assignment <br>\n",
    " &nbsp;&nbsp;&nbsp;&nbsp; b) print() <br>\n",
    " &nbsp;&nbsp;&nbsp;&nbsp; c) String Concatenation <br>\n",
    " &nbsp;&nbsp;&nbsp;&nbsp; d) Type Conversion <br>\n",
    " &nbsp;&nbsp;&nbsp;&nbsp; e) input() <br>\n",
    " &nbsp;&nbsp;&nbsp;&nbsp; f) format() <br>\n",
    " &nbsp;&nbsp;&nbsp;&nbsp; g) Old Way (python 2) <br>\n",
    "3) <b>In-Class Exercise #1</b> <br>\n",
    "4) If Statements <br>\n",
    " &nbsp;&nbsp;&nbsp;&nbsp; a) 'is' keyword <br>\n",
    " &nbsp;&nbsp;&nbsp;&nbsp; b) 'in' keyword <br>\n",
    " &nbsp;&nbsp;&nbsp;&nbsp; c) 'not in' keyword <br>\n",
    "5) <b>In-Class Exercise #2</b> <br>\n",
    "6) Elif Statements <br>\n",
    "7) Else Statements <br>\n",
    "8) <b>In-Class Exercise #3</b> <br>\n",
    "9) Built-In Functions <br>\n",
    "\n",
    " &nbsp;&nbsp;&nbsp;&nbsp; b) len() <br>\n",
    " &nbsp;&nbsp;&nbsp;&nbsp; c) help() <br>\n",
    " &nbsp;&nbsp;&nbsp;&nbsp; d) isinstance() <br>\n",
    " &nbsp;&nbsp;&nbsp;&nbsp; e) abs() <br>\n",
    "10) Try and Except <br>\n"
   ]
  },
  {
   "cell_type": "markdown",
   "metadata": {},
   "source": [
    "### Int & Float Assignments"
   ]
  },
  {
   "cell_type": "markdown",
   "metadata": {},
   "source": [
    "##### Assigning int"
   ]
  },
  {
   "cell_type": "code",
   "execution_count": 3,
   "metadata": {},
   "outputs": [
    {
     "name": "stdout",
     "output_type": "stream",
     "text": [
      "5\n",
      "6\n"
     ]
    }
   ],
   "source": [
    "number = 5\n",
    "\n",
    "elephants = 10\n",
    "leza = 11\n",
    "\n",
    "print(number)\n",
    "number = 6\n",
    "print(number)\n"
   ]
  },
  {
   "cell_type": "markdown",
   "metadata": {},
   "source": [
    "##### Assigning float"
   ]
  },
  {
   "cell_type": "code",
   "execution_count": 5,
   "metadata": {},
   "outputs": [
    {
     "name": "stdout",
     "output_type": "stream",
     "text": [
      "1.75\n",
      "30.7775\n"
     ]
    }
   ],
   "source": [
    "# float == decimal\n",
    "\n",
    "num_float = 1.75 \n",
    "print(num_float)\n",
    "\n",
    "my_float = 30.7775\n",
    "print(my_float)"
   ]
  },
  {
   "cell_type": "markdown",
   "metadata": {},
   "source": [
    "#### Performing Calculations on ints and floats"
   ]
  },
  {
   "cell_type": "markdown",
   "metadata": {},
   "source": [
    "##### Addition"
   ]
  },
  {
   "cell_type": "code",
   "execution_count": 7,
   "metadata": {},
   "outputs": [
    {
     "name": "stdout",
     "output_type": "stream",
     "text": [
      "10\n",
      "10\n"
     ]
    }
   ],
   "source": [
    "num1 = 3\n",
    "num2 = 7\n",
    "\n",
    "print(num1 + num2)\n",
    "\n",
    "result = num1 + num2\n",
    "print(result)"
   ]
  },
  {
   "cell_type": "code",
   "execution_count": 8,
   "metadata": {},
   "outputs": [
    {
     "name": "stdout",
     "output_type": "stream",
     "text": [
      "17\n"
     ]
    }
   ],
   "source": [
    "#shorthand way \n",
    "\n",
    "result += num2\n",
    "print(result)"
   ]
  },
  {
   "cell_type": "markdown",
   "metadata": {},
   "source": [
    "##### Subtraction"
   ]
  },
  {
   "cell_type": "code",
   "execution_count": 11,
   "metadata": {},
   "outputs": [
    {
     "name": "stdout",
     "output_type": "stream",
     "text": [
      "13\n",
      "13\n",
      "11\n"
     ]
    }
   ],
   "source": [
    "num3 = 15\n",
    "num4 = 2\n",
    "\n",
    "print(num3 - num4)\n",
    "\n",
    "result = num3 - num4\n",
    "print(result)\n",
    "\n",
    "result -= num4\n",
    "\n",
    "print(result)\n"
   ]
  },
  {
   "cell_type": "markdown",
   "metadata": {},
   "source": [
    "##### Multiplication"
   ]
  },
  {
   "cell_type": "code",
   "execution_count": 14,
   "metadata": {},
   "outputs": [
    {
     "name": "stdout",
     "output_type": "stream",
     "text": [
      "25.0\n",
      "62.5\n"
     ]
    }
   ],
   "source": [
    "num1 = 10\n",
    "num2 = 2.5\n",
    "\n",
    "print(num1 * num2)\n",
    "product = num1 * num2\n",
    "product *= num2\n",
    "print(product)"
   ]
  },
  {
   "cell_type": "markdown",
   "metadata": {},
   "source": [
    "##### Division"
   ]
  },
  {
   "cell_type": "code",
   "execution_count": 15,
   "metadata": {},
   "outputs": [
    {
     "name": "stdout",
     "output_type": "stream",
     "text": [
      "5.0\n"
     ]
    }
   ],
   "source": [
    "num1 = 45\n",
    "num2 = 9\n",
    "\n",
    "print(num1 / num2)\n",
    "\n"
   ]
  },
  {
   "cell_type": "code",
   "execution_count": null,
   "metadata": {},
   "outputs": [],
   "source": []
  },
  {
   "cell_type": "markdown",
   "metadata": {},
   "source": [
    "##### Floor Division"
   ]
  },
  {
   "cell_type": "code",
   "execution_count": null,
   "metadata": {},
   "outputs": [],
   "source": [
    "# utilizing // symbol"
   ]
  },
  {
   "cell_type": "code",
   "execution_count": 20,
   "metadata": {},
   "outputs": [
    {
     "name": "stdout",
     "output_type": "stream",
     "text": [
      "3\n",
      "3.3333333333333335\n",
      "3\n",
      "3\n"
     ]
    }
   ],
   "source": [
    "print(num1 // num2)\n",
    "\n",
    "num3 = 10\n",
    "num4 = 3\n",
    "\n",
    "print(num3 / num4)\n",
    "print(num3 // num4)\n",
    "\n",
    "#shorthand for floor division\n",
    "\n",
    "\n",
    "num3 //= num4\n",
    "print(num3)"
   ]
  },
  {
   "cell_type": "markdown",
   "metadata": {},
   "source": [
    "##### Modulo"
   ]
  },
  {
   "cell_type": "code",
   "execution_count": 19,
   "metadata": {},
   "outputs": [
    {
     "name": "stdout",
     "output_type": "stream",
     "text": [
      "1\n"
     ]
    }
   ],
   "source": [
    "# utlizing % symbol to find the remainder after division of 2 numbers \n",
    "num1 = 10\n",
    "num2 = 3 \n",
    "\n",
    "print(num1 % num2)"
   ]
  },
  {
   "cell_type": "code",
   "execution_count": 21,
   "metadata": {},
   "outputs": [
    {
     "name": "stdout",
     "output_type": "stream",
     "text": [
      "1\n"
     ]
    }
   ],
   "source": [
    "#shorthand way\n",
    "\n",
    "num1 %= num2\n",
    "print(num1)"
   ]
  },
  {
   "cell_type": "markdown",
   "metadata": {},
   "source": [
    "##### Exponential"
   ]
  },
  {
   "cell_type": "code",
   "execution_count": 22,
   "metadata": {},
   "outputs": [
    {
     "name": "stdout",
     "output_type": "stream",
     "text": [
      "25\n"
     ]
    }
   ],
   "source": [
    "square = 5**2\n",
    "print(square)"
   ]
  },
  {
   "cell_type": "code",
   "execution_count": 23,
   "metadata": {},
   "outputs": [
    {
     "name": "stdout",
     "output_type": "stream",
     "text": [
      "625\n"
     ]
    }
   ],
   "source": [
    "square **= 2\n",
    "print(square)\n"
   ]
  },
  {
   "cell_type": "markdown",
   "metadata": {},
   "source": [
    "### String Input-Output"
   ]
  },
  {
   "cell_type": "markdown",
   "metadata": {},
   "source": [
    "##### String Assignment"
   ]
  },
  {
   "cell_type": "code",
   "execution_count": 24,
   "metadata": {},
   "outputs": [
    {
     "name": "stdout",
     "output_type": "stream",
     "text": [
      "Alex\n",
      "Mutt\n"
     ]
    }
   ],
   "source": [
    "name = \"Alex\"\n",
    "\n",
    "dog = 'Mutt'\n",
    "\n",
    "print(name)\n",
    "print(dog)"
   ]
  },
  {
   "cell_type": "markdown",
   "metadata": {},
   "source": [
    "##### print() <br>\n",
    "<p>Don't forget about end=' '</p>"
   ]
  },
  {
   "cell_type": "code",
   "execution_count": 30,
   "metadata": {},
   "outputs": [
    {
     "name": "stdout",
     "output_type": "stream",
     "text": [
      "Hello Alex Mutt\n",
      "Full name: Alex SwiggumHelp on built-in function print in module builtins:\n",
      "\n",
      "print(...)\n",
      "    print(value, ..., sep=' ', end='\\n', file=sys.stdout, flush=False)\n",
      "    \n",
      "    Prints the values to a stream, or to sys.stdout by default.\n",
      "    Optional keyword arguments:\n",
      "    file:  a file-like object (stream); defaults to the current sys.stdout.\n",
      "    sep:   string inserted between values, default a space.\n",
      "    end:   string appended after the last value, default a newline.\n",
      "    flush: whether to forcibly flush the stream.\n",
      "\n"
     ]
    }
   ],
   "source": [
    "print('Hello', name, dog)\n",
    "\n",
    "print('Full name:', name, end = ' Swiggum')\n",
    "\n",
    "help(print)"
   ]
  },
  {
   "cell_type": "markdown",
   "metadata": {},
   "source": [
    "##### String Concatenation"
   ]
  },
  {
   "cell_type": "code",
   "execution_count": 35,
   "metadata": {},
   "outputs": [
    {
     "name": "stdout",
     "output_type": "stream",
     "text": [
      "Luke Skywalker\n",
      "Luke Skywalker Jedi Master\n"
     ]
    }
   ],
   "source": [
    "first_name = 'Luke'\n",
    "last_name = 'Skywalker'\n",
    "\n",
    "full_name = first_name + \" \" + last_name\n",
    "print(full_name)\n",
    "\n",
    "full_name += \" \" + \"Jedi Master\"\n",
    "print(full_name)"
   ]
  },
  {
   "cell_type": "code",
   "execution_count": 36,
   "metadata": {},
   "outputs": [
    {
     "name": "stdout",
     "output_type": "stream",
     "text": [
      "I have a dog, her name is Henri\n"
     ]
    }
   ],
   "source": [
    "my_string = \"I have a dog, her name is\"\n",
    "my_dog = \"Henri\"\n",
    "\n",
    "dog_sentence = my_string + \" \" + my_dog\n",
    "print(dog_sentence)"
   ]
  },
  {
   "cell_type": "markdown",
   "metadata": {},
   "source": [
    "##### Type Conversion"
   ]
  },
  {
   "cell_type": "code",
   "execution_count": 41,
   "metadata": {},
   "outputs": [
    {
     "name": "stdout",
     "output_type": "stream",
     "text": [
      "<class 'str'>\n"
     ]
    },
    {
     "ename": "ValueError",
     "evalue": "invalid literal for int() with base 10: 'Alex'",
     "output_type": "error",
     "traceback": [
      "\u001b[0;31m---------------------------------------------------------------------------\u001b[0m",
      "\u001b[0;31mValueError\u001b[0m                                Traceback (most recent call last)",
      "Cell \u001b[0;32mIn[41], line 18\u001b[0m\n\u001b[1;32m     15\u001b[0m name \u001b[38;5;241m=\u001b[39m \u001b[38;5;124m'\u001b[39m\u001b[38;5;124mAlex\u001b[39m\u001b[38;5;124m'\u001b[39m\n\u001b[1;32m     16\u001b[0m \u001b[38;5;28mprint\u001b[39m(\u001b[38;5;28mtype\u001b[39m(name))\n\u001b[0;32m---> 18\u001b[0m name \u001b[38;5;241m=\u001b[39m \u001b[38;5;28;43mint\u001b[39;49m\u001b[43m(\u001b[49m\u001b[43mname\u001b[49m\u001b[43m)\u001b[49m\n\u001b[1;32m     19\u001b[0m \u001b[38;5;28mprint\u001b[39m(\u001b[38;5;28mtype\u001b[39m(name))\n",
      "\u001b[0;31mValueError\u001b[0m: invalid literal for int() with base 10: 'Alex'"
     ]
    }
   ],
   "source": [
    "# int() - convert type into integer type\n",
    "# float() - convert to float type\n",
    "# str() - convert to string type\n",
    "\n",
    "#not every string can be made into a float or integer but every integer or float can be made into a string\n",
    "# why?!?!?\n",
    "\n",
    "# x = 12\n",
    "# print(type(x))\n",
    "\n",
    "# x = str(x)\n",
    "# print(type(x))\n",
    "\n",
    "\n",
    "name = 'Alex'\n",
    "print(type(name))\n",
    "\n",
    "name = int(name)\n",
    "print(type(name))\n"
   ]
  },
  {
   "cell_type": "code",
   "execution_count": null,
   "metadata": {},
   "outputs": [],
   "source": []
  },
  {
   "cell_type": "code",
   "execution_count": null,
   "metadata": {},
   "outputs": [],
   "source": [
    "\n"
   ]
  },
  {
   "cell_type": "markdown",
   "metadata": {},
   "source": [
    "##### input()"
   ]
  },
  {
   "cell_type": "code",
   "execution_count": 45,
   "metadata": {},
   "outputs": [
    {
     "name": "stdout",
     "output_type": "stream",
     "text": [
      "What is your name? Alex\n",
      "Your name is,  Alex\n",
      "<class 'str'>\n"
     ]
    }
   ],
   "source": [
    "# Input will always return a string, all of the time, forever and ever and ever\n",
    "\n",
    "# help(input)\n",
    "\n",
    "name = input('What is your name? ')\n",
    "print('Your name is, ', name)\n",
    "print(type(name))"
   ]
  },
  {
   "cell_type": "code",
   "execution_count": 48,
   "metadata": {},
   "outputs": [
    {
     "name": "stdout",
     "output_type": "stream",
     "text": [
      "Give me a number and I'll add 2 to it! 10\n",
      "12\n"
     ]
    }
   ],
   "source": [
    "number = int(input(\"Give me a number and I'll add 2 to it! \"))\n",
    "\n",
    "print(number + 2)"
   ]
  },
  {
   "cell_type": "code",
   "execution_count": 49,
   "metadata": {},
   "outputs": [
    {
     "name": "stdout",
     "output_type": "stream",
     "text": [
      "How old are you? 31\n",
      "Your age is, 31.0\n",
      "Your are now is, 32.0\n"
     ]
    }
   ],
   "source": [
    "age = float(input(\"How old are you? \"))\n",
    "\n",
    "print(\"Your age is,\", age)\n",
    "\n",
    "age += 1\n",
    "\n",
    "print(\"Your are now is,\", age)\n"
   ]
  },
  {
   "cell_type": "markdown",
   "metadata": {},
   "source": [
    "##### format()"
   ]
  },
  {
   "cell_type": "code",
   "execution_count": 50,
   "metadata": {},
   "outputs": [
    {
     "name": "stdout",
     "output_type": "stream",
     "text": [
      "How old are you? 31\n",
      "What is your name? Alex\n",
      "You are 31 years old, and your name is Alex.\n"
     ]
    }
   ],
   "source": [
    "age = int(input(\"How old are you? \"))\n",
    "name = input(\"What is your name? \")\n",
    "\n",
    "result_string = \"You are {} years old, and your name is {}.\".format(age, name)\n",
    "print(result_string)"
   ]
  },
  {
   "cell_type": "code",
   "execution_count": 51,
   "metadata": {},
   "outputs": [
    {
     "name": "stdout",
     "output_type": "stream",
     "text": [
      "You are 31 years old, and your name is Alex\n"
     ]
    }
   ],
   "source": [
    "#more popular way of utilizing format prints \n",
    "\n",
    "result_again = f\"You are {age} years old, and your name is {name}\"\n",
    "print(result_again)"
   ]
  },
  {
   "cell_type": "markdown",
   "metadata": {},
   "source": [
    "##### Old Way (python 2)"
   ]
  },
  {
   "cell_type": "code",
   "execution_count": 64,
   "metadata": {},
   "outputs": [
    {
     "name": "stdout",
     "output_type": "stream",
     "text": [
      "You are 31 years old, and your name is Alex\n"
     ]
    }
   ],
   "source": [
    "#'Hey %s, there is a 0x%x error!' % (name, errno)\n",
    "\n",
    "result_again2 = \"You are %s years old, and your name is %s\" %(age, name)\n",
    "print(result_again2)"
   ]
  },
  {
   "cell_type": "markdown",
   "metadata": {},
   "source": [
    "# In-Class Exercise 1 <br>\n",
    "<p>Create a formatted statement that asks for a car's color, year, make, model and prints out the results</p>"
   ]
  },
  {
   "cell_type": "code",
   "execution_count": 66,
   "metadata": {},
   "outputs": [
    {
     "name": "stdout",
     "output_type": "stream",
     "text": [
      "What is the color of your car?black\n",
      "What is the year of your car?2005\n",
      "What is the make of your car?chrysler\n",
      "What is the model of your car?sebring\n",
      "You have a {car_color} car. It is a {car_year}. The make of your car is a {car_make.title()}. The model is a {car_model.title()}.\n"
     ]
    }
   ],
   "source": [
    "car_color = input(\"What is the color of your car?\")\n",
    "car_year = int(input(\"What is the year of your car?\"))\n",
    "car_make = input(\"What is the make of your car?\")\n",
    "car_model = input(\"What is the model of your car?\")\n",
    "\n",
    "car_info = \"You have a {car_color} car. It is a {car_year}. The make of your car is a {car_make.title()}. The model is a {car_model.title()}.\"\n",
    "print(car_info)"
   ]
  },
  {
   "cell_type": "code",
   "execution_count": 65,
   "metadata": {},
   "outputs": [
    {
     "name": "stdout",
     "output_type": "stream",
     "text": [
      "\n",
      "<class 'str'>\n"
     ]
    },
    {
     "ename": "NameError",
     "evalue": "name 'string' is not defined",
     "output_type": "error",
     "traceback": [
      "\u001b[0;31m---------------------------------------------------------------------------\u001b[0m",
      "\u001b[0;31mNameError\u001b[0m                                 Traceback (most recent call last)",
      "Cell \u001b[0;32mIn[65], line 5\u001b[0m\n\u001b[1;32m      1\u001b[0m \u001b[38;5;28mprint\u001b[39m()\n\u001b[1;32m      3\u001b[0m \u001b[38;5;28mprint\u001b[39m(\u001b[38;5;28mtype\u001b[39m(\u001b[38;5;124m'\u001b[39m\u001b[38;5;124mhello\u001b[39m\u001b[38;5;124m'\u001b[39m))\n\u001b[0;32m----> 5\u001b[0m \u001b[43mstring\u001b[49m\u001b[38;5;241m.\u001b[39mtitle()\n",
      "\u001b[0;31mNameError\u001b[0m: name 'string' is not defined"
     ]
    }
   ],
   "source": []
  },
  {
   "cell_type": "code",
   "execution_count": null,
   "metadata": {},
   "outputs": [],
   "source": []
  },
  {
   "cell_type": "markdown",
   "metadata": {},
   "source": [
    "### If Statements"
   ]
  },
  {
   "cell_type": "code",
   "execution_count": 71,
   "metadata": {},
   "outputs": [
    {
     "name": "stdout",
     "output_type": "stream",
     "text": [
      "They're the same #!\n",
      "No way\n"
     ]
    }
   ],
   "source": [
    "# Operators Less Than <, Greater Than >, Equal to ==, Not Equal To !=\n",
    "# Less Than or Equal To <=, Greater Than or Equal To >=\n",
    "\n",
    "#Truth Tree\n",
    "# T && F = F\n",
    "# T && T = T\n",
    "# T || F = T\n",
    "# F || T = T\n",
    "# F || F = F\n",
    "\n",
    "num1 = 65 #integer\n",
    "num2 = 65.0 #float\n",
    "\n",
    "if num1 == num2: #F \n",
    "    print(\"They're the same #!\")\n",
    "else: #T\n",
    "    print(\"Nope! \")\n",
    "\n",
    "    \n",
    "num1 = .1\n",
    "num2 = .2\n",
    "num3 = .3\n",
    "\n",
    "if num1 + num2 == num3:\n",
    "    print(\"Heck yeah!\")\n",
    "else:\n",
    "    print(\"No way\")\n",
    "    "
   ]
  },
  {
   "cell_type": "markdown",
   "metadata": {},
   "source": [
    "##### 'is' keyword"
   ]
  },
  {
   "cell_type": "code",
   "execution_count": 79,
   "metadata": {
    "scrolled": false
   },
   "outputs": [
    {
     "name": "stdout",
     "output_type": "stream",
     "text": [
      "Alex\n",
      "Alex\n",
      "They are the same object\n"
     ]
    }
   ],
   "source": [
    "#use the \"is\" keyword checking for same/similar objects (location) not same value\n",
    "\n",
    "num2 = \"Alex\" #object stored somewhere in memory\n",
    "print(num2)\n",
    "\n",
    "num3 = \"Alex\" #same object stored at the same place in memory (they are pointing to the same location/object)\n",
    "print(num3)\n",
    "\n",
    "if num3 is num2:\n",
    "    print(\"They are the same object\")\n",
    "else:\n",
    "    print(\"They aren't the same!!!\")\n"
   ]
  },
  {
   "cell_type": "code",
   "execution_count": 75,
   "metadata": {},
   "outputs": [
    {
     "name": "stdout",
     "output_type": "stream",
     "text": [
      "Same Same!\n"
     ]
    }
   ],
   "source": [
    "alex = 55\n",
    "brendan = 61 \n",
    "matthew = 71 \n",
    "\n",
    "me = alex \n",
    "\n",
    "if alex is me: \n",
    "    print(\"Same Same!\")\n",
    "else:\n",
    "    print(\"They different objects!\")"
   ]
  },
  {
   "cell_type": "code",
   "execution_count": 80,
   "metadata": {},
   "outputs": [],
   "source": [
    "name1 = \"Alex\""
   ]
  },
  {
   "cell_type": "code",
   "execution_count": 81,
   "metadata": {},
   "outputs": [],
   "source": [
    "name2 = \"Alex\""
   ]
  },
  {
   "cell_type": "code",
   "execution_count": 82,
   "metadata": {},
   "outputs": [
    {
     "name": "stdout",
     "output_type": "stream",
     "text": [
      "Hello\n"
     ]
    }
   ],
   "source": [
    "if name1 is name2:\n",
    "    print(\"Hello\")"
   ]
  },
  {
   "cell_type": "markdown",
   "metadata": {},
   "source": [
    "##### 'in' keyword"
   ]
  },
  {
   "cell_type": "code",
   "execution_count": 87,
   "metadata": {},
   "outputs": [
    {
     "name": "stdout",
     "output_type": "stream",
     "text": [
      "Oh no :()\n"
     ]
    }
   ],
   "source": [
    "#Check if a character is in a string\n",
    "#in keyword allows us to traverse an itterable (string, list, dictionary (key/values))\n",
    "\n",
    "char_name = 'Boba Fett'\n",
    "\n",
    "if \"b\" in char_name:\n",
    "    print(\"Wonderful\")\n",
    "else:\n",
    "    print(\"Oh no :()\")"
   ]
  },
  {
   "cell_type": "markdown",
   "metadata": {},
   "source": [
    "##### 'not in' keyword'"
   ]
  },
  {
   "cell_type": "code",
   "execution_count": 86,
   "metadata": {},
   "outputs": [
    {
     "name": "stdout",
     "output_type": "stream",
     "text": [
      "It's not here!!!\n"
     ]
    }
   ],
   "source": [
    "\n",
    "if \"\" not in char_name:\n",
    "    print(\"It's not here!!!\")\n",
    "else:\n",
    "    print(\"We found it!\")\n",
    "    "
   ]
  },
  {
   "cell_type": "code",
   "execution_count": 90,
   "metadata": {},
   "outputs": [
    {
     "name": "stdout",
     "output_type": "stream",
     "text": [
      "Yep got a var\n"
     ]
    }
   ],
   "source": [
    "my_var = \"\" #None, False, 0 [] {} ()\n",
    "\n",
    "if my_var: #same as asking if my_var == True (aka is there a value associated with it)\n",
    "    print('Yep got a var')\n",
    "else:\n",
    "    print('No var here!')"
   ]
  },
  {
   "cell_type": "markdown",
   "metadata": {},
   "source": [
    "# In-Class Exercise 2 <br>\n",
    "<p>Ask user for input, check to see if the letter 'p' is in the input</p>\n",
    "<p>Check for case sensitivity</p>\n"
   ]
  },
  {
   "cell_type": "code",
   "execution_count": 94,
   "metadata": {},
   "outputs": [
    {
     "name": "stdout",
     "output_type": "stream",
     "text": [
      "Please give me a string: 1234\n",
      "1234\n",
      "<class 'str'>\n",
      "Was the letter 'p' in that input?  No\n"
     ]
    }
   ],
   "source": [
    "string = input('Please give me a string: ').lower()\n",
    "print(string)\n",
    "print(type(string))\n",
    "\n",
    "print(\"Was the letter 'p' in that input? \", 'Yes' if 'p' in string else 'No')\n",
    "\n",
    "\n",
    "# print(\"Was the letter 'p' in that input? \")\n",
    "# if \"p\" in string:\n",
    "#     print(\"Yes\")\n",
    "# else:\n",
    "#     print(\"No\")"
   ]
  },
  {
   "cell_type": "code",
   "execution_count": null,
   "metadata": {},
   "outputs": [],
   "source": []
  },
  {
   "cell_type": "code",
   "execution_count": null,
   "metadata": {},
   "outputs": [],
   "source": []
  },
  {
   "cell_type": "code",
   "execution_count": null,
   "metadata": {},
   "outputs": [],
   "source": []
  },
  {
   "cell_type": "markdown",
   "metadata": {},
   "source": [
    "## Using 'and'/'or' with If Statements"
   ]
  },
  {
   "cell_type": "code",
   "execution_count": 97,
   "metadata": {},
   "outputs": [
    {
     "name": "stdout",
     "output_type": "stream",
     "text": [
      "True and True\n",
      "True or True\n"
     ]
    }
   ],
   "source": [
    "#Truth Tree\n",
    "# T && F = F\n",
    "# T && T = T\n",
    "# T || F = T\n",
    "# F || T = T\n",
    "# F || F = F\n",
    "\n",
    "\n",
    "num1 = 15\n",
    "num2 = 3\n",
    "num3 = 10\n",
    "num4 = 3\n",
    "\n",
    "\n",
    "#if with and statements\n",
    "\n",
    "        #T                 #T\n",
    "if num1 / 5 == num2 and num3 - 7 == num4: #both need to be true in order to work\n",
    "    print(\"True and True\")\n",
    "else:\n",
    "    print(\"one of these or both of these are False\")\n",
    "    \n",
    "    \n",
    "#if with or statements\n",
    "\n",
    "        #T                 #F\n",
    "if num1 / 5 == num2 or num3 - 6 == num4: #just one needs to be true \n",
    "    print(\"True or True\")\n",
    "else:\n",
    "    print(\"both of these are false\")\n"
   ]
  },
  {
   "cell_type": "markdown",
   "metadata": {},
   "source": [
    "### Elif Statements"
   ]
  },
  {
   "cell_type": "code",
   "execution_count": 99,
   "metadata": {},
   "outputs": [
    {
     "name": "stdout",
     "output_type": "stream",
     "text": [
      "Its not any of these names!!!\n"
     ]
    }
   ],
   "source": [
    "#if condition 1\n",
    "#elif condition 2\n",
    "#elif condition 3\n",
    "#elif condition 4\n",
    "#else (all other conditions)\n",
    "\n",
    "\n",
    "# = 1 equal is for assigning a variable or reassigning a variable, == 2 equals is value equality \n",
    "\n",
    "first_name = \"asefsdg\"\n",
    "\n",
    "if first_name == 'smith': #if this doesn't hit, go to the next one \n",
    "    print('That is a weird first name')\n",
    "elif first_name == 'max':\n",
    "    print('Ah yes, Max is indeed a first name')\n",
    "elif first_name == 'ryan':\n",
    "    print(\"Hello Ryan\")\n",
    "elif first_name == 'alex':\n",
    "    print('Guten Morgen, Alex')\n",
    "else: #accounting for anything else not accounted for in our if/elif \n",
    "    print(\"Its not any of these names!!!\")\n",
    "\n"
   ]
  },
  {
   "cell_type": "code",
   "execution_count": 101,
   "metadata": {},
   "outputs": [
    {
     "name": "stdout",
     "output_type": "stream",
     "text": [
      "a is here!!!\n",
      "f is here!!!\n"
     ]
    }
   ],
   "source": [
    "if 'a' in first_name:\n",
    "    print('a is here!!!')\n",
    "if 'f' in first_name:\n",
    "    print('f is here!!!')"
   ]
  },
  {
   "cell_type": "markdown",
   "metadata": {},
   "source": [
    "### Else Statements"
   ]
  },
  {
   "cell_type": "code",
   "execution_count": null,
   "metadata": {},
   "outputs": [],
   "source": [
    "#else is accounting for every other case that isn't true for any of the ifs or elifs\n",
    "#see above examples!!!"
   ]
  },
  {
   "cell_type": "markdown",
   "metadata": {},
   "source": [
    "### String Manipulation"
   ]
  },
  {
   "cell_type": "markdown",
   "metadata": {},
   "source": [
    "#### .lstrip()"
   ]
  },
  {
   "cell_type": "code",
   "execution_count": 102,
   "metadata": {},
   "outputs": [
    {
     "name": "stdout",
     "output_type": "stream",
     "text": [
      " Hello there's whitespace to the left of me!\n",
      "Hello there's whitespace to the left of me!\n"
     ]
    }
   ],
   "source": [
    "# our_string.lstrip()\n",
    "\n",
    "# .lstrip() is going to strip any whitespace to the left\n",
    "\n",
    "my_string = \" Hello there's whitespace to the left of me!\"\n",
    "print(my_string)\n",
    "print(my_string.lstrip())"
   ]
  },
  {
   "cell_type": "markdown",
   "metadata": {},
   "source": [
    "#### .rstrip()"
   ]
  },
  {
   "cell_type": "code",
   "execution_count": 103,
   "metadata": {},
   "outputs": [
    {
     "name": "stdout",
     "output_type": "stream",
     "text": [
      "Hello there's whitespace to the right of me!    \n",
      "Hello there's whitespace to the right of me!\n"
     ]
    }
   ],
   "source": [
    "# our_string.rstrip()\n",
    "my_string = \"Hello there's whitespace to the right of me!    \"\n",
    "print(my_string)\n",
    "print(my_string.rstrip())"
   ]
  },
  {
   "cell_type": "markdown",
   "metadata": {},
   "source": [
    "#### .strip()"
   ]
  },
  {
   "cell_type": "code",
   "execution_count": 104,
   "metadata": {},
   "outputs": [
    {
     "name": "stdout",
     "output_type": "stream",
     "text": [
      " Hello there's whitespace all over me!    \n",
      "Hello there's whitespace all over me!\n"
     ]
    }
   ],
   "source": [
    "# our.string.strip()\n",
    "\n",
    "my_string = \" Hello there's whitespace all over me!    \"\n",
    "print(my_string)\n",
    "print(my_string.strip())\n"
   ]
  },
  {
   "cell_type": "code",
   "execution_count": 105,
   "metadata": {},
   "outputs": [
    {
     "name": "stdout",
     "output_type": "stream",
     "text": [
      "Give me a word, any word!         HELLO      \n",
      "        HELLO      \n",
      "HELLO\n"
     ]
    }
   ],
   "source": [
    "my_input = input('Give me a word, any word! ')\n",
    "print(my_input)\n",
    "print(my_input.strip())"
   ]
  },
  {
   "cell_type": "markdown",
   "metadata": {},
   "source": [
    "#### .replace()"
   ]
  },
  {
   "cell_type": "code",
   "execution_count": 110,
   "metadata": {},
   "outputs": [
    {
     "name": "stdout",
     "output_type": "stream",
     "text": [
      ",,,,,,,,,,,,,,,,,,,,,,,,,r,o,d\n",
      "rod\n"
     ]
    }
   ],
   "source": [
    "#.replace() replaces characters in a string, takes in 2 arguments, \n",
    "# the first is what we are replacing, the second is what we are replacing with\n",
    "\n",
    "\n",
    "name = \",,,,,,,,,,,,,,,,,,,,,,,,,r,o,d\"\n",
    "print(name)\n",
    "\n",
    "replace = 'jason'\n",
    "\n",
    "name = name.replace(',', \"\")\n",
    "print(name)\n"
   ]
  },
  {
   "cell_type": "markdown",
   "metadata": {},
   "source": [
    "#### .title()"
   ]
  },
  {
   "cell_type": "code",
   "execution_count": 111,
   "metadata": {},
   "outputs": [
    {
     "name": "stdout",
     "output_type": "stream",
     "text": [
      "Goofy Goober\n"
     ]
    }
   ],
   "source": [
    "#our_string.title()\n",
    "name = 'goofy goober'\n",
    "print(name.title())"
   ]
  },
  {
   "cell_type": "markdown",
   "metadata": {},
   "source": [
    "#### .upper()"
   ]
  },
  {
   "cell_type": "code",
   "execution_count": 112,
   "metadata": {},
   "outputs": [
    {
     "name": "stdout",
     "output_type": "stream",
     "text": [
      "GOOFY GOOBER\n"
     ]
    }
   ],
   "source": [
    "# our_string.upper()\n",
    "print(name.upper())"
   ]
  },
  {
   "cell_type": "markdown",
   "metadata": {},
   "source": [
    "#### .lower()"
   ]
  },
  {
   "cell_type": "code",
   "execution_count": 113,
   "metadata": {
    "scrolled": true
   },
   "outputs": [
    {
     "name": "stdout",
     "output_type": "stream",
     "text": [
      "goofy goober\n"
     ]
    }
   ],
   "source": [
    "# our_string.lower()\n",
    "print(name.lower())"
   ]
  },
  {
   "cell_type": "markdown",
   "metadata": {},
   "source": [
    "#### .capitalize()"
   ]
  },
  {
   "cell_type": "code",
   "execution_count": 115,
   "metadata": {},
   "outputs": [
    {
     "name": "stdout",
     "output_type": "stream",
     "text": [
      "Goofy goober\n"
     ]
    }
   ],
   "source": [
    "#title() capitalizes the start of EVERY word, .capitalize() capitalizes the start of only the first word \n",
    "print(name.capitalize())"
   ]
  },
  {
   "cell_type": "markdown",
   "metadata": {},
   "source": [
    "### String Exercise"
   ]
  },
  {
   "cell_type": "markdown",
   "metadata": {},
   "source": [
    "Have a user input a sentence. Return the name with all white space removed and each first letter capitalized."
   ]
  },
  {
   "cell_type": "code",
   "execution_count": 117,
   "metadata": {},
   "outputs": [
    {
     "name": "stdout",
     "output_type": "stream",
     "text": [
      "Enter a phrase:     you're a wizard harry\n",
      "You'ReAWizardHarry\n"
     ]
    }
   ],
   "source": [
    "result=\"\"\n",
    "string = (input(\"Enter a phrase: \")).split() # .split() takes a string and turns it into a list seperated by whatever you want.\n",
    "for word in string:\n",
    "    title_ize = word.title().replace(\" \",\"\")\n",
    "    result+=title_ize\n",
    "print(result)\n"
   ]
  },
  {
   "cell_type": "code",
   "execution_count": 119,
   "metadata": {},
   "outputs": [
    {
     "name": "stdout",
     "output_type": "stream",
     "text": [
      "Enter a phrase:            You're a Wizard HARRY        \n",
      "you're a wizard harry\n"
     ]
    }
   ],
   "source": [
    "string = input('Enter a phrase: ')\n",
    "\n",
    "print(string.title().lower().strip()) \n"
   ]
  },
  {
   "cell_type": "code",
   "execution_count": null,
   "metadata": {},
   "outputs": [],
   "source": []
  },
  {
   "cell_type": "code",
   "execution_count": null,
   "metadata": {},
   "outputs": [],
   "source": []
  },
  {
   "cell_type": "markdown",
   "metadata": {},
   "source": [
    "### Built-In Functions"
   ]
  },
  {
   "cell_type": "markdown",
   "metadata": {},
   "source": [
    "##### len()"
   ]
  },
  {
   "cell_type": "code",
   "execution_count": 120,
   "metadata": {},
   "outputs": [
    {
     "name": "stdout",
     "output_type": "stream",
     "text": [
      "7\n"
     ]
    }
   ],
   "source": [
    "#works for strings and lists\n",
    "# return the length of a given iterable (string, lists, dictionaries, tuples, sets) variable as an integer\n",
    "\n",
    "name = 'Brendan'\n",
    "print(len(name))\n",
    "\n",
    "\n",
    "#function is independant of classes/objects\n",
    "#method is a function inside a class/object "
   ]
  },
  {
   "cell_type": "markdown",
   "metadata": {},
   "source": [
    "##### help()"
   ]
  },
  {
   "cell_type": "code",
   "execution_count": 121,
   "metadata": {},
   "outputs": [
    {
     "name": "stdout",
     "output_type": "stream",
     "text": [
      "Help on built-in function len in module builtins:\n",
      "\n",
      "len(obj, /)\n",
      "    Return the number of items in a container.\n",
      "\n"
     ]
    }
   ],
   "source": [
    "# gives a tooltip on a python built-in function\n",
    "help(len)"
   ]
  },
  {
   "cell_type": "markdown",
   "metadata": {},
   "source": [
    "##### isinstance()"
   ]
  },
  {
   "cell_type": "code",
   "execution_count": 123,
   "metadata": {},
   "outputs": [
    {
     "name": "stdout",
     "output_type": "stream",
     "text": [
      "Its a me, a number!\n"
     ]
    }
   ],
   "source": [
    "#check a variable/value to find out what Object Family (data type) it belongs to\n",
    "# isinstance(var, type)\n",
    "\n",
    "# int is keyword for integer\n",
    "# str is keyword for string\n",
    "# float is keyword for float\n",
    "\n",
    "my_num = 55\n",
    "\n",
    "if isinstance(my_num, int):\n",
    "    print('Its a me, a number!')\n",
    "else:\n",
    "    print('Sad day, no number here')\n",
    "    "
   ]
  },
  {
   "cell_type": "code",
   "execution_count": null,
   "metadata": {},
   "outputs": [],
   "source": [
    "\n"
   ]
  },
  {
   "cell_type": "code",
   "execution_count": null,
   "metadata": {},
   "outputs": [],
   "source": []
  },
  {
   "cell_type": "code",
   "execution_count": null,
   "metadata": {},
   "outputs": [],
   "source": []
  },
  {
   "cell_type": "markdown",
   "metadata": {},
   "source": [
    "##### abs()"
   ]
  },
  {
   "cell_type": "code",
   "execution_count": 125,
   "metadata": {},
   "outputs": [
    {
     "name": "stdout",
     "output_type": "stream",
     "text": [
      "5\n",
      "5\n",
      "5\n"
     ]
    }
   ],
   "source": [
    "# | 5 |\n",
    "# give us the distance to zero\n",
    "\n",
    "print(abs(-5))\n",
    "print(abs(5))\n",
    "\n",
    "print(abs(25 - 30))"
   ]
  },
  {
   "cell_type": "markdown",
   "metadata": {},
   "source": [
    "### Try and Except"
   ]
  },
  {
   "cell_type": "code",
   "execution_count": 129,
   "metadata": {},
   "outputs": [
    {
     "name": "stdout",
     "output_type": "stream",
     "text": [
      "What is your age? thirty one\n",
      "Please enter a valid number for age\n",
      "What is your age? 31\n",
      "You look so good for 31 years old!\n",
      "Thank you for playing!\n"
     ]
    }
   ],
   "source": [
    "# use this whenever you expect encounter a bug so that the error doesn't cause the program to stop\n",
    "# logging graceful error messages to gently nudge the user in the right direction\n",
    "\n",
    "while True:\n",
    "    try:\n",
    "        age = int(input(\"What is your age? \"))\n",
    "        print(f\"You look so good for {age} years old!\")\n",
    "        break\n",
    "    except:\n",
    "        print(\"Please enter a valid number for age\")\n",
    "\n",
    "print('Thank you for playing!')"
   ]
  },
  {
   "cell_type": "code",
   "execution_count": 128,
   "metadata": {},
   "outputs": [
    {
     "name": "stdout",
     "output_type": "stream",
     "text": [
      "What is your age? thirty one\n"
     ]
    },
    {
     "ename": "ValueError",
     "evalue": "invalid literal for int() with base 10: 'thirty one'",
     "output_type": "error",
     "traceback": [
      "\u001b[0;31m---------------------------------------------------------------------------\u001b[0m",
      "\u001b[0;31mValueError\u001b[0m                                Traceback (most recent call last)",
      "Cell \u001b[0;32mIn[128], line 1\u001b[0m\n\u001b[0;32m----> 1\u001b[0m age \u001b[38;5;241m=\u001b[39m \u001b[38;5;28;43mint\u001b[39;49m\u001b[43m(\u001b[49m\u001b[38;5;28;43minput\u001b[39;49m\u001b[43m(\u001b[49m\u001b[38;5;124;43m\"\u001b[39;49m\u001b[38;5;124;43mWhat is your age? \u001b[39;49m\u001b[38;5;124;43m\"\u001b[39;49m\u001b[43m)\u001b[49m\u001b[43m)\u001b[49m\n\u001b[1;32m      2\u001b[0m \u001b[38;5;28mprint\u001b[39m(\u001b[38;5;124mf\u001b[39m\u001b[38;5;124m\"\u001b[39m\u001b[38;5;124mYou look so good for \u001b[39m\u001b[38;5;132;01m{\u001b[39;00mage\u001b[38;5;132;01m}\u001b[39;00m\u001b[38;5;124m years old!\u001b[39m\u001b[38;5;124m\"\u001b[39m)\n",
      "\u001b[0;31mValueError\u001b[0m: invalid literal for int() with base 10: 'thirty one'"
     ]
    }
   ],
   "source": [
    "age = int(input(\"What is your age? \"))\n",
    "print(f\"You look so good for {age} years old!\")"
   ]
  },
  {
   "cell_type": "markdown",
   "metadata": {},
   "source": [
    "## Exercise #1 <br>\n",
    "<p>Accept two user ages as inputs and give us the difference between them. (The Answer should always be a positive output)</p>"
   ]
  },
  {
   "cell_type": "code",
   "execution_count": null,
   "metadata": {},
   "outputs": [],
   "source": [
    "\n",
    "\n",
    "\n",
    "        \n",
    "        \n"
   ]
  },
  {
   "cell_type": "markdown",
   "metadata": {},
   "source": [
    "## Exercise #2 \n",
    "<p>Accept 3 user inputs for variables named noun, verb and adjective. Print out a formatted string using the outputs.</p>"
   ]
  },
  {
   "cell_type": "code",
   "execution_count": null,
   "metadata": {},
   "outputs": [],
   "source": []
  },
  {
   "cell_type": "markdown",
   "metadata": {},
   "source": [
    "## Exercise #3 <br>\n",
    "<p>Take in a users input for their age, if they are younger than 18 print kids, if they're 18 to 65 print adults, else print seniors</p>"
   ]
  },
  {
   "cell_type": "code",
   "execution_count": null,
   "metadata": {},
   "outputs": [],
   "source": []
  },
  {
   "cell_type": "markdown",
   "metadata": {},
   "source": [
    "## Exercise #4\n",
    "<p>Take in a number from a user input, output the number squared.</p>"
   ]
  },
  {
   "cell_type": "code",
   "execution_count": null,
   "metadata": {},
   "outputs": [],
   "source": []
  },
  {
   "cell_type": "markdown",
   "metadata": {},
   "source": [
    "## Exercise #5\n",
    "<p>Check the below variables' length. If the length of the word is greater than 5 output True, if it is less than 5, output False<p>\n"
   ]
  },
  {
   "cell_type": "code",
   "execution_count": null,
   "metadata": {},
   "outputs": [],
   "source": [
    "word1 = \"panini\"\n",
    "word2 = \"bulbasaur\"\n",
    "word3 = \"pie\"\n",
    "word4 = \"dolphin\"\n",
    "word5 = \"dog\"\n"
   ]
  }
 ],
 "metadata": {
  "kernelspec": {
   "display_name": "Python 3 (ipykernel)",
   "language": "python",
   "name": "python3"
  },
  "language_info": {
   "codemirror_mode": {
    "name": "ipython",
    "version": 3
   },
   "file_extension": ".py",
   "mimetype": "text/x-python",
   "name": "python",
   "nbconvert_exporter": "python",
   "pygments_lexer": "ipython3",
   "version": "3.10.9"
  }
 },
 "nbformat": 4,
 "nbformat_minor": 2
}
